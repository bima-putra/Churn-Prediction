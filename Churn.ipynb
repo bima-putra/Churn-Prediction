{
 "cells": [
  {
   "cell_type": "markdown",
   "metadata": {},
   "source": [
    "### Import Library and Dataset"
   ]
  },
  {
   "cell_type": "code",
   "execution_count": 4,
   "metadata": {},
   "outputs": [],
   "source": [
    "import pandas as pd\n",
    "import numpy as np\n",
    "import matplotlib.pyplot as plt\n",
    "import seaborn as sns"
   ]
  },
  {
   "cell_type": "code",
   "execution_count": 5,
   "metadata": {},
   "outputs": [
    {
     "data": {
      "text/html": [
       "<div>\n",
       "<style scoped>\n",
       "    .dataframe tbody tr th:only-of-type {\n",
       "        vertical-align: middle;\n",
       "    }\n",
       "\n",
       "    .dataframe tbody tr th {\n",
       "        vertical-align: top;\n",
       "    }\n",
       "\n",
       "    .dataframe thead th {\n",
       "        text-align: right;\n",
       "    }\n",
       "</style>\n",
       "<table border=\"1\" class=\"dataframe\">\n",
       "  <thead>\n",
       "    <tr style=\"text-align: right;\">\n",
       "      <th></th>\n",
       "      <th>Names</th>\n",
       "      <th>Age</th>\n",
       "      <th>Total_Purchase</th>\n",
       "      <th>Account_Manager</th>\n",
       "      <th>Years</th>\n",
       "      <th>Num_Sites</th>\n",
       "      <th>Onboard_date</th>\n",
       "      <th>Location</th>\n",
       "      <th>Company</th>\n",
       "      <th>Churn</th>\n",
       "    </tr>\n",
       "  </thead>\n",
       "  <tbody>\n",
       "    <tr>\n",
       "      <th>0</th>\n",
       "      <td>Aaron King</td>\n",
       "      <td>46</td>\n",
       "      <td>7504.79</td>\n",
       "      <td>0</td>\n",
       "      <td>5.98</td>\n",
       "      <td>8</td>\n",
       "      <td>2007-05-13 20:42:11</td>\n",
       "      <td>38346 Smith Prairie Arnoldside, MD 33861-4885</td>\n",
       "      <td>Hernandez PLC</td>\n",
       "      <td>0</td>\n",
       "    </tr>\n",
       "    <tr>\n",
       "      <th>1</th>\n",
       "      <td>Aaron Meyer</td>\n",
       "      <td>45</td>\n",
       "      <td>9598.03</td>\n",
       "      <td>0</td>\n",
       "      <td>5.00</td>\n",
       "      <td>7</td>\n",
       "      <td>2010-07-17 03:30:38</td>\n",
       "      <td>35821 Bailey Skyway Alexisstad, NH 81472</td>\n",
       "      <td>Steele, Bates and Lane</td>\n",
       "      <td>0</td>\n",
       "    </tr>\n",
       "  </tbody>\n",
       "</table>\n",
       "</div>"
      ],
      "text/plain": [
       "         Names  Age  Total_Purchase  Account_Manager  Years  Num_Sites  \\\n",
       "0   Aaron King   46         7504.79                0   5.98          8   \n",
       "1  Aaron Meyer   45         9598.03                0   5.00          7   \n",
       "\n",
       "          Onboard_date                                       Location  \\\n",
       "0  2007-05-13 20:42:11  38346 Smith Prairie Arnoldside, MD 33861-4885   \n",
       "1  2010-07-17 03:30:38       35821 Bailey Skyway Alexisstad, NH 81472   \n",
       "\n",
       "                  Company  Churn  \n",
       "0           Hernandez PLC      0  \n",
       "1  Steele, Bates and Lane      0  "
      ]
     },
     "execution_count": 5,
     "metadata": {},
     "output_type": "execute_result"
    }
   ],
   "source": [
    "df = pd.read_csv(\"data.csv\")\n",
    "df.head(2)"
   ]
  },
  {
   "cell_type": "code",
   "execution_count": 6,
   "metadata": {},
   "outputs": [
    {
     "data": {
      "text/plain": [
       "Names              0\n",
       "Age                0\n",
       "Total_Purchase     0\n",
       "Account_Manager    0\n",
       "Years              0\n",
       "Num_Sites          0\n",
       "Onboard_date       0\n",
       "Location           0\n",
       "Company            0\n",
       "Churn              0\n",
       "dtype: int64"
      ]
     },
     "execution_count": 6,
     "metadata": {},
     "output_type": "execute_result"
    }
   ],
   "source": [
    "# check null values\n",
    "df.isna().sum()"
   ]
  },
  {
   "cell_type": "code",
   "execution_count": 7,
   "metadata": {},
   "outputs": [
    {
     "data": {
      "text/html": [
       "<div>\n",
       "<style scoped>\n",
       "    .dataframe tbody tr th:only-of-type {\n",
       "        vertical-align: middle;\n",
       "    }\n",
       "\n",
       "    .dataframe tbody tr th {\n",
       "        vertical-align: top;\n",
       "    }\n",
       "\n",
       "    .dataframe thead th {\n",
       "        text-align: right;\n",
       "    }\n",
       "</style>\n",
       "<table border=\"1\" class=\"dataframe\">\n",
       "  <thead>\n",
       "    <tr style=\"text-align: right;\">\n",
       "      <th></th>\n",
       "      <th>Age</th>\n",
       "      <th>Total_Purchase</th>\n",
       "      <th>Account_Manager</th>\n",
       "      <th>Years</th>\n",
       "      <th>Num_Sites</th>\n",
       "      <th>Churn</th>\n",
       "    </tr>\n",
       "  </thead>\n",
       "  <tbody>\n",
       "    <tr>\n",
       "      <th>count</th>\n",
       "      <td>750.000000</td>\n",
       "      <td>750.000000</td>\n",
       "      <td>750.00000</td>\n",
       "      <td>750.000000</td>\n",
       "      <td>750.000000</td>\n",
       "      <td>750.000000</td>\n",
       "    </tr>\n",
       "    <tr>\n",
       "      <th>mean</th>\n",
       "      <td>41.850667</td>\n",
       "      <td>10055.878080</td>\n",
       "      <td>0.49200</td>\n",
       "      <td>5.301987</td>\n",
       "      <td>8.649333</td>\n",
       "      <td>0.194667</td>\n",
       "    </tr>\n",
       "    <tr>\n",
       "      <th>std</th>\n",
       "      <td>6.141552</td>\n",
       "      <td>2350.437004</td>\n",
       "      <td>0.50027</td>\n",
       "      <td>1.293987</td>\n",
       "      <td>1.808146</td>\n",
       "      <td>0.396208</td>\n",
       "    </tr>\n",
       "    <tr>\n",
       "      <th>min</th>\n",
       "      <td>22.000000</td>\n",
       "      <td>3263.000000</td>\n",
       "      <td>0.00000</td>\n",
       "      <td>1.000000</td>\n",
       "      <td>3.000000</td>\n",
       "      <td>0.000000</td>\n",
       "    </tr>\n",
       "    <tr>\n",
       "      <th>25%</th>\n",
       "      <td>38.000000</td>\n",
       "      <td>8520.490000</td>\n",
       "      <td>0.00000</td>\n",
       "      <td>4.470000</td>\n",
       "      <td>7.000000</td>\n",
       "      <td>0.000000</td>\n",
       "    </tr>\n",
       "    <tr>\n",
       "      <th>50%</th>\n",
       "      <td>41.000000</td>\n",
       "      <td>10045.870000</td>\n",
       "      <td>0.00000</td>\n",
       "      <td>5.270000</td>\n",
       "      <td>9.000000</td>\n",
       "      <td>0.000000</td>\n",
       "    </tr>\n",
       "    <tr>\n",
       "      <th>75%</th>\n",
       "      <td>46.000000</td>\n",
       "      <td>11752.855000</td>\n",
       "      <td>1.00000</td>\n",
       "      <td>6.167500</td>\n",
       "      <td>10.000000</td>\n",
       "      <td>0.000000</td>\n",
       "    </tr>\n",
       "    <tr>\n",
       "      <th>max</th>\n",
       "      <td>65.000000</td>\n",
       "      <td>18026.010000</td>\n",
       "      <td>1.00000</td>\n",
       "      <td>9.150000</td>\n",
       "      <td>14.000000</td>\n",
       "      <td>1.000000</td>\n",
       "    </tr>\n",
       "  </tbody>\n",
       "</table>\n",
       "</div>"
      ],
      "text/plain": [
       "              Age  Total_Purchase  Account_Manager       Years   Num_Sites  \\\n",
       "count  750.000000      750.000000        750.00000  750.000000  750.000000   \n",
       "mean    41.850667    10055.878080          0.49200    5.301987    8.649333   \n",
       "std      6.141552     2350.437004          0.50027    1.293987    1.808146   \n",
       "min     22.000000     3263.000000          0.00000    1.000000    3.000000   \n",
       "25%     38.000000     8520.490000          0.00000    4.470000    7.000000   \n",
       "50%     41.000000    10045.870000          0.00000    5.270000    9.000000   \n",
       "75%     46.000000    11752.855000          1.00000    6.167500   10.000000   \n",
       "max     65.000000    18026.010000          1.00000    9.150000   14.000000   \n",
       "\n",
       "            Churn  \n",
       "count  750.000000  \n",
       "mean     0.194667  \n",
       "std      0.396208  \n",
       "min      0.000000  \n",
       "25%      0.000000  \n",
       "50%      0.000000  \n",
       "75%      0.000000  \n",
       "max      1.000000  "
      ]
     },
     "execution_count": 7,
     "metadata": {},
     "output_type": "execute_result"
    }
   ],
   "source": [
    "# check sparsity and descriptive\n",
    "df.describe()"
   ]
  },
  {
   "cell_type": "code",
   "execution_count": 8,
   "metadata": {},
   "outputs": [
    {
     "data": {
      "text/html": [
       "<div>\n",
       "<style scoped>\n",
       "    .dataframe tbody tr th:only-of-type {\n",
       "        vertical-align: middle;\n",
       "    }\n",
       "\n",
       "    .dataframe tbody tr th {\n",
       "        vertical-align: top;\n",
       "    }\n",
       "\n",
       "    .dataframe thead th {\n",
       "        text-align: right;\n",
       "    }\n",
       "</style>\n",
       "<table border=\"1\" class=\"dataframe\">\n",
       "  <thead>\n",
       "    <tr style=\"text-align: right;\">\n",
       "      <th></th>\n",
       "      <th>Names</th>\n",
       "      <th>Age</th>\n",
       "      <th>Total_Purchase</th>\n",
       "      <th>Account_Manager</th>\n",
       "      <th>Years</th>\n",
       "      <th>Num_Sites</th>\n",
       "      <th>Onboard_date</th>\n",
       "      <th>Location</th>\n",
       "      <th>Company</th>\n",
       "      <th>Churn</th>\n",
       "    </tr>\n",
       "  </thead>\n",
       "  <tbody>\n",
       "    <tr>\n",
       "      <th>0</th>\n",
       "      <td>Aaron King</td>\n",
       "      <td>46</td>\n",
       "      <td>7504.79</td>\n",
       "      <td>0</td>\n",
       "      <td>5.98</td>\n",
       "      <td>8</td>\n",
       "      <td>2007-05-13 20:42:11</td>\n",
       "      <td>38346 Smith Prairie Arnoldside, MD 33861-4885</td>\n",
       "      <td>Hernandez PLC</td>\n",
       "      <td>0</td>\n",
       "    </tr>\n",
       "    <tr>\n",
       "      <th>1</th>\n",
       "      <td>Aaron Meyer</td>\n",
       "      <td>45</td>\n",
       "      <td>9598.03</td>\n",
       "      <td>0</td>\n",
       "      <td>5.00</td>\n",
       "      <td>7</td>\n",
       "      <td>2010-07-17 03:30:38</td>\n",
       "      <td>35821 Bailey Skyway Alexisstad, NH 81472</td>\n",
       "      <td>Steele, Bates and Lane</td>\n",
       "      <td>0</td>\n",
       "    </tr>\n",
       "  </tbody>\n",
       "</table>\n",
       "</div>"
      ],
      "text/plain": [
       "         Names  Age  Total_Purchase  Account_Manager  Years  Num_Sites  \\\n",
       "0   Aaron King   46         7504.79                0   5.98          8   \n",
       "1  Aaron Meyer   45         9598.03                0   5.00          7   \n",
       "\n",
       "          Onboard_date                                       Location  \\\n",
       "0  2007-05-13 20:42:11  38346 Smith Prairie Arnoldside, MD 33861-4885   \n",
       "1  2010-07-17 03:30:38       35821 Bailey Skyway Alexisstad, NH 81472   \n",
       "\n",
       "                  Company  Churn  \n",
       "0           Hernandez PLC      0  \n",
       "1  Steele, Bates and Lane      0  "
      ]
     },
     "execution_count": 8,
     "metadata": {},
     "output_type": "execute_result"
    }
   ],
   "source": [
    "df.head(2)"
   ]
  },
  {
   "cell_type": "code",
   "execution_count": 9,
   "metadata": {},
   "outputs": [],
   "source": [
    "# Drop unused columns\n",
    "df[\"Company\"].nunique() #drop coloumns due to unique data\n",
    "df[\"Location\"].nunique() #drop coloumns due to unique data\n",
    "df[\"Names\"].nunique() #drop coloumns due to unique data\n",
    "\n",
    "df.drop([\"Company\",\"Location\",\"Names\"], axis=1, inplace=True)"
   ]
  },
  {
   "cell_type": "code",
   "execution_count": 10,
   "metadata": {},
   "outputs": [],
   "source": [
    "df[\"Onboard_date\"] = df[\"Onboard_date\"].apply(lambda x:int(x[:4])) #takes only year date"
   ]
  },
  {
   "cell_type": "markdown",
   "metadata": {},
   "source": [
    "### EDA"
   ]
  },
  {
   "cell_type": "code",
   "execution_count": 11,
   "metadata": {},
   "outputs": [
    {
     "data": {
      "text/plain": [
       "<matplotlib.axes._subplots.AxesSubplot at 0x1bbb74f1348>"
      ]
     },
     "execution_count": 11,
     "metadata": {},
     "output_type": "execute_result"
    },
    {
     "data": {
      "image/png": "[encoded data removed]",
      "text/plain": [
       "<Figure size 432x288 with 1 Axes>"
      ]
     },
     "metadata": {
      "needs_background": "light"
     },
     "output_type": "display_data"
    }
   ],
   "source": [
    "sns.countplot(\"Num_Sites\",hue=\"Churn\",data=df)  #its dificult to find insight from data because data has imbalance target"
   ]
  },
  {
   "cell_type": "markdown",
   "metadata": {},
   "source": [
    "- overall site number 8 has low churn rate value\n",
    "- site number 11 has high churn rate value"
   ]
  },
  {
   "cell_type": "code",
   "execution_count": null,
   "metadata": {},
   "outputs": [],
   "source": []
  },
  {
   "cell_type": "code",
   "execution_count": 12,
   "metadata": {},
   "outputs": [
    {
     "data": {
      "image/png": "[encoded data removed]",
      "text/plain": [
       "<Figure size 864x432 with 1 Axes>"
      ]
     },
     "metadata": {
      "needs_background": "light"
     },
     "output_type": "display_data"
    }
   ],
   "source": [
    "purchase = df[\"Total_Purchase\"] / 100\n",
    "plt.figure(figsize=(12,6))\n",
    "plt.scatter(df[\"Num_Sites\"],df[\"Years\"],c=df[\"Churn\"],s=purchase,alpha=.8)\n",
    "plt.title(\"Num_Sites x Years\")\n",
    "plt.ylabel(\"Years\")\n",
    "plt.xlabel(\"Num_Sites\")\n",
    "plt.show()"
   ]
  },
  {
   "cell_type": "markdown",
   "metadata": {},
   "source": [
    "- higher value of num_sites has more intensity to churn"
   ]
  },
  {
   "cell_type": "code",
   "execution_count": 13,
   "metadata": {},
   "outputs": [
    {
     "data": {
      "image/png": "[encoded data removed]",
      "text/plain": [
       "<Figure size 864x432 with 1 Axes>"
      ]
     },
     "metadata": {
      "needs_background": "light"
     },
     "output_type": "display_data"
    }
   ],
   "source": [
    "plt.figure(figsize=(12,6))\n",
    "plt.scatter(df[\"Total_Purchase\"],df[\"Years\"],c=df[\"Churn\"])\n",
    "plt.title(\"Total Purchase x Years\")\n",
    "plt.ylabel(\"Years\")\n",
    "plt.xlabel(\"Num_Sites\")\n",
    "plt.show()"
   ]
  },
  {
   "cell_type": "code",
   "execution_count": 14,
   "metadata": {},
   "outputs": [
    {
     "data": {
      "image/png": "[encoded data removed]",
      "text/plain": [
       "<Figure size 864x432 with 1 Axes>"
      ]
     },
     "metadata": {
      "needs_background": "light"
     },
     "output_type": "display_data"
    }
   ],
   "source": [
    "plt.figure(figsize=(12,6))\n",
    "plt.scatter(df[\"Num_Sites\"],df[\"Onboard_date\"],c=df[\"Churn\"])\n",
    "plt.title(\"Total Purchase x Years\")\n",
    "plt.ylabel(\"Years\")\n",
    "plt.xlabel(\"Num_Sites\")\n",
    "plt.show()"
   ]
  },
  {
   "cell_type": "markdown",
   "metadata": {},
   "source": [
    "- value 10 of higer on numsites has more intend to be churn"
   ]
  },
  {
   "cell_type": "code",
   "execution_count": 15,
   "metadata": {},
   "outputs": [
    {
     "data": {
      "text/plain": [
       "<matplotlib.axes._subplots.AxesSubplot at 0x1bbb7790348>"
      ]
     },
     "execution_count": 15,
     "metadata": {},
     "output_type": "execute_result"
    },
    {
     "data": {
      "image/png": "[encoded data removed]",
      "text/plain": [
       "<Figure size 432x288 with 2 Axes>"
      ]
     },
     "metadata": {
      "needs_background": "light"
     },
     "output_type": "display_data"
    }
   ],
   "source": [
    "sns.heatmap(df.corr())"
   ]
  },
  {
   "cell_type": "markdown",
   "metadata": {},
   "source": [
    "### normalize and spliting dataset"
   ]
  },
  {
   "cell_type": "code",
   "execution_count": 16,
   "metadata": {},
   "outputs": [],
   "source": [
    "x = df.drop(\"Churn\", axis=1)\n",
    "y = df[\"Churn\"]"
   ]
  },
  {
   "cell_type": "code",
   "execution_count": 17,
   "metadata": {},
   "outputs": [],
   "source": [
    "from sklearn.preprocessing import normalize"
   ]
  },
  {
   "cell_type": "code",
   "execution_count": 18,
   "metadata": {},
   "outputs": [],
   "source": [
    "x_norm = normalize(x,norm=\"l1\")"
   ]
  },
  {
   "cell_type": "code",
   "execution_count": 19,
   "metadata": {},
   "outputs": [],
   "source": [
    "from sklearn.model_selection import train_test_split"
   ]
  },
  {
   "cell_type": "code",
   "execution_count": 20,
   "metadata": {},
   "outputs": [],
   "source": [
    "x_train,x_test,y_train,y_test = train_test_split(x_norm,y)"
   ]
  },
  {
   "cell_type": "markdown",
   "metadata": {},
   "source": [
    "### creating model"
   ]
  },
  {
   "cell_type": "code",
   "execution_count": 21,
   "metadata": {},
   "outputs": [],
   "source": [
    "from sklearn.linear_model import LogisticRegression\n",
    "from sklearn.tree import DecisionTreeClassifier\n",
    "from sklearn.svm import SVC\n",
    "from sklearn.ensemble import RandomForestClassifier\n",
    "from sklearn.neighbors import KNeighborsClassifier\n",
    "\n",
    "lr = LogisticRegression()\n",
    "dt = DecisionTreeClassifier()\n",
    "sv = SVC()\n",
    "rf = RandomForestClassifier()\n",
    "kn = KNeighborsClassifier()\n",
    "\n",
    "model = [lr,dt,sv,rf,kn]\n",
    "model_name = {lr:\"Logistic Regression\", rf:\"Random Forest\", kn:\"KNN\",sv:\"SVC\",dt:\"Decision Tree\"}"
   ]
  },
  {
   "cell_type": "code",
   "execution_count": 22,
   "metadata": {},
   "outputs": [
    {
     "name": "stdout",
     "output_type": "stream",
     "text": [
      "Logistic Regression score: 0.7712765957446809\n",
      "Decision Tree score: 0.7446808510638298\n",
      "SVC score: 0.7712765957446809\n",
      "Random Forest score: 0.824468085106383\n",
      "KNN score: 0.7287234042553191\n"
     ]
    }
   ],
   "source": [
    "for i in model:\n",
    "    i.fit(x_train,y_train)\n",
    "    print(model_name[i],\"score:\",i.score(x_test,y_test))"
   ]
  },
  {
   "cell_type": "markdown",
   "metadata": {},
   "source": [
    "- Random Forest is top performers"
   ]
  },
  {
   "cell_type": "markdown",
   "metadata": {},
   "source": [
    "### evaluating model"
   ]
  },
  {
   "cell_type": "code",
   "execution_count": 90,
   "metadata": {},
   "outputs": [],
   "source": [
    "from sklearn.metrics import classification_report, plot_precision_recall_curve,plot_confusion_matrix,plot_roc_curve,f1_score,confusion_matrix"
   ]
  },
  {
   "cell_type": "code",
   "execution_count": 24,
   "metadata": {},
   "outputs": [
    {
     "name": "stdout",
     "output_type": "stream",
     "text": [
      "Logistic Regression\n",
      "              precision    recall  f1-score   support\n",
      "\n",
      "           0       0.77      1.00      0.87       145\n",
      "           1       0.00      0.00      0.00        43\n",
      "\n",
      "    accuracy                           0.77       188\n",
      "   macro avg       0.39      0.50      0.44       188\n",
      "weighted avg       0.59      0.77      0.67       188\n",
      "\n",
      "======================================================================\n",
      "Decision Tree\n",
      "              precision    recall  f1-score   support\n",
      "\n",
      "           0       0.83      0.84      0.84       145\n",
      "           1       0.44      0.42      0.43        43\n",
      "\n",
      "    accuracy                           0.74       188\n",
      "   macro avg       0.63      0.63      0.63       188\n",
      "weighted avg       0.74      0.74      0.74       188\n",
      "\n",
      "======================================================================\n",
      "SVC\n",
      "              precision    recall  f1-score   support\n",
      "\n",
      "           0       0.77      1.00      0.87       145\n",
      "           1       0.00      0.00      0.00        43\n",
      "\n",
      "    accuracy                           0.77       188\n",
      "   macro avg       0.39      0.50      0.44       188\n",
      "weighted avg       0.59      0.77      0.67       188\n",
      "\n",
      "======================================================================\n",
      "Random Forest\n",
      "              precision    recall  f1-score   support\n",
      "\n",
      "           0       0.84      0.95      0.89       145\n",
      "           1       0.71      0.40      0.51        43\n",
      "\n",
      "    accuracy                           0.82       188\n",
      "   macro avg       0.77      0.67      0.70       188\n",
      "weighted avg       0.81      0.82      0.80       188\n",
      "\n",
      "======================================================================\n",
      "KNN\n",
      "              precision    recall  f1-score   support\n",
      "\n",
      "           0       0.77      0.92      0.84       145\n",
      "           1       0.21      0.07      0.11        43\n",
      "\n",
      "    accuracy                           0.73       188\n",
      "   macro avg       0.49      0.50      0.47       188\n",
      "weighted avg       0.64      0.73      0.67       188\n",
      "\n",
      "======================================================================\n"
     ]
    },
    {
     "name": "stderr",
     "output_type": "stream",
     "text": [
      "C:\\Users\\bima\\anaconda3\\lib\\site-packages\\sklearn\\metrics\\_classification.py:1272: UndefinedMetricWarning: Precision and F-score are ill-defined and being set to 0.0 in labels with no predicted samples. Use `zero_division` parameter to control this behavior.\n",
      "  _warn_prf(average, modifier, msg_start, len(result))\n",
      "C:\\Users\\bima\\anaconda3\\lib\\site-packages\\sklearn\\metrics\\_classification.py:1272: UndefinedMetricWarning: Precision and F-score are ill-defined and being set to 0.0 in labels with no predicted samples. Use `zero_division` parameter to control this behavior.\n",
      "  _warn_prf(average, modifier, msg_start, len(result))\n"
     ]
    }
   ],
   "source": [
    "for i in model:\n",
    "    y_pred = i.predict(x_test)\n",
    "    print(model_name[i])\n",
    "    print(classification_report(y_test,y_pred))\n",
    "    print(\"=\"*70)"
   ]
  },
  {
   "cell_type": "code",
   "execution_count": 25,
   "metadata": {},
   "outputs": [
    {
     "name": "stdout",
     "output_type": "stream",
     "text": [
      "Logistic Regression\n",
      "0.0\n",
      "======================================================================\n",
      "Decision Tree\n",
      "0.4285714285714286\n",
      "======================================================================\n",
      "SVC\n",
      "0.0\n",
      "======================================================================\n",
      "Random Forest\n",
      "0.5074626865671642\n",
      "======================================================================\n",
      "KNN\n",
      "0.10526315789473685\n",
      "======================================================================\n"
     ]
    }
   ],
   "source": [
    "for i in model:\n",
    "    y_pred = i.predict(x_test)\n",
    "    print(model_name[i])\n",
    "    print(f1_score(y_test,y_pred))\n",
    "    print(\"=\"*70)"
   ]
  },
  {
   "cell_type": "markdown",
   "metadata": {},
   "source": [
    "- if we looking for the accuracy most of the model is excelent but if when we look in __f1-score__ most of model is __terible__. except Decision Tree.\n",
    "- because imbalance dataset model difficult to recognize minor values"
   ]
  },
  {
   "cell_type": "code",
   "execution_count": 26,
   "metadata": {},
   "outputs": [
    {
     "name": "stdout",
     "output_type": "stream",
     "text": [
      "Logistic Regression\n",
      "<sklearn.metrics._plot.confusion_matrix.ConfusionMatrixDisplay object at 0x000001BBB773D688>\n",
      "======================================================================\n"
     ]
    },
    {
     "data": {
      "image/png": "[encoded data removed]",
      "text/plain": [
       "<Figure size 432x288 with 2 Axes>"
      ]
     },
     "metadata": {
      "needs_background": "light"
     },
     "output_type": "display_data"
    },
    {
     "name": "stdout",
     "output_type": "stream",
     "text": [
      "Decision Tree\n",
      "<sklearn.metrics._plot.confusion_matrix.ConfusionMatrixDisplay object at 0x000001BBB748FCC8>\n",
      "======================================================================\n"
     ]
    },
    {
     "data": {
      "image/png": "[encoded data removed]",
      "text/plain": [
       "<Figure size 432x288 with 2 Axes>"
      ]
     },
     "metadata": {
      "needs_background": "light"
     },
     "output_type": "display_data"
    },
    {
     "name": "stdout",
     "output_type": "stream",
     "text": [
      "SVC\n",
      "<sklearn.metrics._plot.confusion_matrix.ConfusionMatrixDisplay object at 0x000001BBB78C3748>\n",
      "======================================================================\n"
     ]
    },
    {
     "data": {
      "image/png": "[encoded data removed]",
      "text/plain": [
       "<Figure size 432x288 with 2 Axes>"
      ]
     },
     "metadata": {
      "needs_background": "light"
     },
     "output_type": "display_data"
    },
    {
     "name": "stdout",
     "output_type": "stream",
     "text": [
      "Random Forest\n",
      "<sklearn.metrics._plot.confusion_matrix.ConfusionMatrixDisplay object at 0x000001BBB7980508>\n",
      "======================================================================\n"
     ]
    },
    {
     "data": {
      "image/png": "[encoded data removed]",
      "text/plain": [
       "<Figure size 432x288 with 2 Axes>"
      ]
     },
     "metadata": {
      "needs_background": "light"
     },
     "output_type": "display_data"
    },
    {
     "name": "stdout",
     "output_type": "stream",
     "text": [
      "KNN\n",
      "<sklearn.metrics._plot.confusion_matrix.ConfusionMatrixDisplay object at 0x000001BBB7995048>\n",
      "======================================================================\n"
     ]
    },
    {
     "data": {
      "image/png": "[encoded data removed]",
      "text/plain": [
       "<Figure size 432x288 with 2 Axes>"
      ]
     },
     "metadata": {
      "needs_background": "light"
     },
     "output_type": "display_data"
    }
   ],
   "source": [
    "for i in model:\n",
    "    y_pred = i.predict(x_test)\n",
    "    print(model_name[i])\n",
    "    print(plot_confusion_matrix(i,x_test,y_test))\n",
    "    print(\"=\"*70)\n",
    "    plt.show()"
   ]
  },
  {
   "cell_type": "markdown",
   "metadata": {},
   "source": [
    "### Handling imbalance target"
   ]
  },
  {
   "cell_type": "code",
   "execution_count": 27,
   "metadata": {},
   "outputs": [],
   "source": [
    "from imblearn.over_sampling import SMOTE\n",
    "from imblearn.under_sampling import NearMiss"
   ]
  },
  {
   "cell_type": "code",
   "execution_count": 29,
   "metadata": {},
   "outputs": [],
   "source": [
    "from sklearn.preprocessing import StandardScaler\n",
    "scaler = StandardScaler()"
   ]
  },
  {
   "cell_type": "code",
   "execution_count": 32,
   "metadata": {},
   "outputs": [],
   "source": [
    "x_std = scaler.fit_transform(x)\n",
    "y = y "
   ]
  },
  {
   "cell_type": "markdown",
   "metadata": {},
   "source": [
    "#### SMOTE"
   ]
  },
  {
   "cell_type": "code",
   "execution_count": 65,
   "metadata": {},
   "outputs": [],
   "source": [
    "sm = SMOTE()\n",
    "x_sm,y_sm = sm.fit_sample(x_std,y)"
   ]
  },
  {
   "cell_type": "code",
   "execution_count": 69,
   "metadata": {},
   "outputs": [
    {
     "data": {
      "text/plain": [
       "1    604\n",
       "0    604\n",
       "Name: Churn, dtype: int64"
      ]
     },
     "execution_count": 69,
     "metadata": {},
     "output_type": "execute_result"
    }
   ],
   "source": [
    "y_sm.value_counts()"
   ]
  },
  {
   "cell_type": "code",
   "execution_count": 72,
   "metadata": {},
   "outputs": [],
   "source": [
    "xsm_tr, xsm_ts, ysm_tr, ysm_ts = train_test_split(x_sm,y_sm) "
   ]
  },
  {
   "cell_type": "code",
   "execution_count": 98,
   "metadata": {},
   "outputs": [
    {
     "name": "stdout",
     "output_type": "stream",
     "text": [
      "Logistic Regression R2 score: 0.8311258278145696\n",
      "Decision Tree R2 score: 0.8675496688741722\n",
      "SVC R2 score: 0.8576158940397351\n",
      "Random Forest R2 score: 0.9105960264900662\n",
      "KNN R2 score: 0.8741721854304636\n"
     ]
    }
   ],
   "source": [
    "# Create model with x and y train that has been smote\n",
    "for i in model:\n",
    "    i.fit(xsm_tr,ysm_tr)\n",
    "    print(model_name[i],\"R2 score:\",i.score(xsm_ts,ysm_ts))"
   ]
  },
  {
   "cell_type": "code",
   "execution_count": 95,
   "metadata": {},
   "outputs": [
    {
     "name": "stdout",
     "output_type": "stream",
     "text": [
      "F1 Skor model SMOTE\n",
      "\n",
      "Logistic Regression\n",
      "0.823529411764706\n",
      "======================================================================\n",
      "Decision Tree\n",
      "0.875\n",
      "======================================================================\n",
      "SVC\n",
      "0.8522336769759451\n",
      "======================================================================\n",
      "Random Forest\n",
      "0.9160839160839161\n",
      "======================================================================\n",
      "KNN\n",
      "0.8782051282051282\n",
      "======================================================================\n"
     ]
    }
   ],
   "source": [
    "print(\"F1 Skor model SMOTE\")\n",
    "print(\"\")\n",
    "for i in model:\n",
    "    ysm_pred = i.predict(xsm_ts)\n",
    "    print(model_name[i])\n",
    "    print(f1_score(ysm_ts, ysm_pred))\n",
    "    print(\"=\"*70)"
   ]
  },
  {
   "cell_type": "code",
   "execution_count": 97,
   "metadata": {},
   "outputs": [
    {
     "name": "stdout",
     "output_type": "stream",
     "text": [
      "Confussion Matrix SMOTE\n",
      "\n",
      "Logistic Regression\n",
      "[[132  22]\n",
      " [ 29 119]]\n",
      "======================================================================\n",
      "Decision Tree\n",
      "[[140  15]\n",
      " [ 21 126]]\n",
      "======================================================================\n",
      "SVC\n",
      "[[135  17]\n",
      " [ 26 124]]\n",
      "======================================================================\n",
      "Random Forest\n",
      "[[147  10]\n",
      " [ 14 131]]\n",
      "======================================================================\n",
      "KNN\n",
      "[[127   4]\n",
      " [ 34 137]]\n",
      "======================================================================\n"
     ]
    }
   ],
   "source": [
    "print(\"Confussion Matrix SMOTE\")\n",
    "print(\"\")\n",
    "for i in model:\n",
    "    y_pred = i.predict(xsm_ts)\n",
    "    print(model_name[i])\n",
    "    print(confusion_matrix(y_pred,ysm_ts))\n",
    "    print(\"=\"*70)\n",
    "    plt.show()"
   ]
  },
  {
   "cell_type": "markdown",
   "metadata": {},
   "source": [
    "#### Nearmiss"
   ]
  },
  {
   "cell_type": "code",
   "execution_count": 79,
   "metadata": {},
   "outputs": [],
   "source": [
    "xst_train, xst_test, yst_train, yst_test = train_test_split(x_std,y) # only need x_test for validating"
   ]
  },
  {
   "cell_type": "code",
   "execution_count": 80,
   "metadata": {},
   "outputs": [],
   "source": [
    "nm = NearMiss()\n",
    "x_nm,y_nm = nm.fit_sample(x_std,y)"
   ]
  },
  {
   "cell_type": "code",
   "execution_count": 81,
   "metadata": {},
   "outputs": [
    {
     "data": {
      "text/plain": [
       "1    146\n",
       "0    146\n",
       "Name: Churn, dtype: int64"
      ]
     },
     "execution_count": 81,
     "metadata": {},
     "output_type": "execute_result"
    }
   ],
   "source": [
    "y_nm.value_counts()"
   ]
  },
  {
   "cell_type": "code",
   "execution_count": 82,
   "metadata": {},
   "outputs": [],
   "source": [
    "xnm_tr, xnm_ts, ynm_tr, ynm_ts = train_test_split(x_nm,y_nm) "
   ]
  },
  {
   "cell_type": "code",
   "execution_count": 87,
   "metadata": {
    "collapsed": true,
    "jupyter": {
     "outputs_hidden": true
    }
   },
   "outputs": [
    {
     "name": "stdout",
     "output_type": "stream",
     "text": [
      "Logistic Regression score: 0.8670212765957447\n",
      "Decision Tree score: 0.7659574468085106\n",
      "SVC score: 0.6861702127659575\n",
      "Random Forest score: 0.7606382978723404\n",
      "KNN score: 0.8297872340425532\n"
     ]
    }
   ],
   "source": [
    "# Create model with x and y train that has been Nearmiss\n",
    "for i in model:\n",
    "    i.fit(xnm_tr,ynm_tr)\n",
    "    print(model_name[i],\"score:\",i.score(xnm_ts,ynm_ts))"
   ]
  },
  {
   "cell_type": "code",
   "execution_count": 85,
   "metadata": {
    "collapsed": true,
    "jupyter": {
     "outputs_hidden": true
    }
   },
   "outputs": [
    {
     "name": "stdout",
     "output_type": "stream",
     "text": [
      "Logistic Regression\n",
      "0.7894736842105263\n",
      "======================================================================\n",
      "Decision Tree\n",
      "0.6478873239436619\n",
      "======================================================================\n",
      "SVC\n",
      "0.8285714285714285\n",
      "======================================================================\n",
      "Random Forest\n",
      "0.8000000000000002\n",
      "======================================================================\n",
      "KNN\n",
      "0.7272727272727273\n",
      "======================================================================\n"
     ]
    }
   ],
   "source": [
    "for i in model:\n",
    "    ynm_pred = i.predict(xnm_ts)\n",
    "    print(model_name[i])\n",
    "    print(f1_score(ynm_ts, ynm_pred))\n",
    "    print(\"=\"*70)"
   ]
  },
  {
   "cell_type": "code",
   "execution_count": 93,
   "metadata": {
    "collapsed": true,
    "jupyter": {
     "outputs_hidden": true
    }
   },
   "outputs": [
    {
     "name": "stdout",
     "output_type": "stream",
     "text": [
      "Logistic Regression\n",
      "[[19  6]\n",
      " [17 31]]\n",
      "======================================================================\n",
      "Decision Tree\n",
      "[[30  1]\n",
      " [ 6 36]]\n",
      "======================================================================\n",
      "SVC\n",
      "[[21  5]\n",
      " [15 32]]\n",
      "======================================================================\n",
      "Random Forest\n",
      "[[32  0]\n",
      " [ 4 37]]\n",
      "======================================================================\n",
      "KNN\n",
      "[[19  1]\n",
      " [17 36]]\n",
      "======================================================================\n"
     ]
    }
   ],
   "source": [
    "for i in model:\n",
    "    y_pred = i.predict(xnm_ts)\n",
    "    print(model_name[i])\n",
    "    print(confusion_matrix(y_pred,ynm_ts))\n",
    "    print(\"=\"*70)\n",
    "    plt.show()"
   ]
  },
  {
   "cell_type": "markdown",
   "metadata": {},
   "source": [
    "### Evaluating SMOTE model on dataset\n",
    "- model with SMOTE dataset choosed because has higher F1 Score"
   ]
  },
  {
   "cell_type": "code",
   "execution_count": 99,
   "metadata": {},
   "outputs": [],
   "source": [
    "xst_train,xst_test,yst_train,yst_test = train_test_split(x_std,y) # only need x_test for testing"
   ]
  },
  {
   "cell_type": "code",
   "execution_count": 100,
   "metadata": {},
   "outputs": [],
   "source": [
    "for i in model:\n",
    "    i.fit(xsm_tr,ysm_tr)"
   ]
  },
  {
   "cell_type": "code",
   "execution_count": 101,
   "metadata": {},
   "outputs": [
    {
     "name": "stdout",
     "output_type": "stream",
     "text": [
      "F1 Skor model SMOTE\n",
      "\n",
      "Logistic Regression\n",
      "0.6666666666666667\n",
      "======================================================================\n",
      "Decision Tree\n",
      "0.918918918918919\n",
      "======================================================================\n",
      "SVC\n",
      "0.7441860465116279\n",
      "======================================================================\n",
      "Random Forest\n",
      "0.9589041095890412\n",
      "======================================================================\n",
      "KNN\n",
      "0.7021276595744681\n",
      "======================================================================\n"
     ]
    }
   ],
   "source": [
    "print(\"F1 Skor model SMOTE\")\n",
    "print(\"\")\n",
    "for i in model:\n",
    "    ysm_pred = i.predict(xst_test)\n",
    "    print(model_name[i])\n",
    "    print(f1_score(yst_test, ysm_pred))\n",
    "    print(\"=\"*70)"
   ]
  },
  {
   "cell_type": "markdown",
   "metadata": {},
   "source": [
    "- __Random Forest__ model is top performers"
   ]
  },
  {
   "cell_type": "markdown",
   "metadata": {},
   "source": [
    "### Predict Test Data"
   ]
  },
  {
   "cell_type": "code",
   "execution_count": 114,
   "metadata": {},
   "outputs": [
    {
     "data": {
      "text/html": [
       "<div>\n",
       "<style scoped>\n",
       "    .dataframe tbody tr th:only-of-type {\n",
       "        vertical-align: middle;\n",
       "    }\n",
       "\n",
       "    .dataframe tbody tr th {\n",
       "        vertical-align: top;\n",
       "    }\n",
       "\n",
       "    .dataframe thead th {\n",
       "        text-align: right;\n",
       "    }\n",
       "</style>\n",
       "<table border=\"1\" class=\"dataframe\">\n",
       "  <thead>\n",
       "    <tr style=\"text-align: right;\">\n",
       "      <th></th>\n",
       "      <th>Names</th>\n",
       "      <th>Age</th>\n",
       "      <th>Total_Purchase</th>\n",
       "      <th>Account_Manager</th>\n",
       "      <th>Years</th>\n",
       "      <th>Num_Sites</th>\n",
       "      <th>Onboard_date</th>\n",
       "      <th>Location</th>\n",
       "      <th>Company</th>\n",
       "    </tr>\n",
       "  </thead>\n",
       "  <tbody>\n",
       "    <tr>\n",
       "      <th>0</th>\n",
       "      <td>Anna Bryant</td>\n",
       "      <td>39</td>\n",
       "      <td>8801.86</td>\n",
       "      <td>1</td>\n",
       "      <td>4.43</td>\n",
       "      <td>10</td>\n",
       "      <td>2007-03-18 11:14:44</td>\n",
       "      <td>30668 Isabella Freeway Suite 428 Lake Kellyhav...</td>\n",
       "      <td>Bennett Inc</td>\n",
       "    </tr>\n",
       "    <tr>\n",
       "      <th>1</th>\n",
       "      <td>Chris Sutton</td>\n",
       "      <td>37</td>\n",
       "      <td>10314.67</td>\n",
       "      <td>1</td>\n",
       "      <td>5.86</td>\n",
       "      <td>8</td>\n",
       "      <td>2016-06-22 19:20:04</td>\n",
       "      <td>858 Booth Points South Davidside, AZ 92136-1145</td>\n",
       "      <td>Collins Ltd</td>\n",
       "    </tr>\n",
       "  </tbody>\n",
       "</table>\n",
       "</div>"
      ],
      "text/plain": [
       "          Names  Age  Total_Purchase  Account_Manager  Years  Num_Sites  \\\n",
       "0   Anna Bryant   39         8801.86                1   4.43         10   \n",
       "1  Chris Sutton   37        10314.67                1   5.86          8   \n",
       "\n",
       "          Onboard_date                                           Location  \\\n",
       "0  2007-03-18 11:14:44  30668 Isabella Freeway Suite 428 Lake Kellyhav...   \n",
       "1  2016-06-22 19:20:04    858 Booth Points South Davidside, AZ 92136-1145   \n",
       "\n",
       "       Company  \n",
       "0  Bennett Inc  \n",
       "1  Collins Ltd  "
      ]
     },
     "execution_count": 114,
     "metadata": {},
     "output_type": "execute_result"
    }
   ],
   "source": [
    "df_test = pd.read_csv(\"test.csv\")\n",
    "df_test.head(2)"
   ]
  },
  {
   "cell_type": "code",
   "execution_count": 115,
   "metadata": {},
   "outputs": [
    {
     "data": {
      "text/plain": [
       "Names              0\n",
       "Age                0\n",
       "Total_Purchase     0\n",
       "Account_Manager    0\n",
       "Years              0\n",
       "Num_Sites          0\n",
       "Onboard_date       0\n",
       "Location           0\n",
       "Company            0\n",
       "dtype: int64"
      ]
     },
     "execution_count": 115,
     "metadata": {},
     "output_type": "execute_result"
    }
   ],
   "source": [
    "# check null values\n",
    "df_test.isna().sum()"
   ]
  },
  {
   "cell_type": "code",
   "execution_count": 116,
   "metadata": {},
   "outputs": [],
   "source": [
    "# Drop unused columns\n",
    "df_test_d = df_test.drop([\"Company\",\"Location\",\"Names\"], axis=1)"
   ]
  },
  {
   "cell_type": "code",
   "execution_count": 117,
   "metadata": {},
   "outputs": [],
   "source": [
    "df_test_d[\"Onboard_date\"] = df_test_d[\"Onboard_date\"].apply(lambda x:int(x[:4])) #takes only year date"
   ]
  },
  {
   "cell_type": "code",
   "execution_count": 118,
   "metadata": {},
   "outputs": [],
   "source": [
    "scaler = StandardScaler()\n",
    "x_test = scaler.fit_transform(df_test_d)"
   ]
  },
  {
   "cell_type": "code",
   "execution_count": 119,
   "metadata": {},
   "outputs": [],
   "source": [
    "df_test[\"Churn Predict\"] = rf.predict(x_test)"
   ]
  },
  {
   "cell_type": "code",
   "execution_count": 120,
   "metadata": {},
   "outputs": [
    {
     "data": {
      "text/html": [
       "<div>\n",
       "<style scoped>\n",
       "    .dataframe tbody tr th:only-of-type {\n",
       "        vertical-align: middle;\n",
       "    }\n",
       "\n",
       "    .dataframe tbody tr th {\n",
       "        vertical-align: top;\n",
       "    }\n",
       "\n",
       "    .dataframe thead th {\n",
       "        text-align: right;\n",
       "    }\n",
       "</style>\n",
       "<table border=\"1\" class=\"dataframe\">\n",
       "  <thead>\n",
       "    <tr style=\"text-align: right;\">\n",
       "      <th></th>\n",
       "      <th>Names</th>\n",
       "      <th>Age</th>\n",
       "      <th>Total_Purchase</th>\n",
       "      <th>Account_Manager</th>\n",
       "      <th>Years</th>\n",
       "      <th>Num_Sites</th>\n",
       "      <th>Onboard_date</th>\n",
       "      <th>Location</th>\n",
       "      <th>Company</th>\n",
       "      <th>Churn Predict</th>\n",
       "    </tr>\n",
       "  </thead>\n",
       "  <tbody>\n",
       "    <tr>\n",
       "      <th>0</th>\n",
       "      <td>Anna Bryant</td>\n",
       "      <td>39</td>\n",
       "      <td>8801.86</td>\n",
       "      <td>1</td>\n",
       "      <td>4.43</td>\n",
       "      <td>10</td>\n",
       "      <td>2007-03-18 11:14:44</td>\n",
       "      <td>30668 Isabella Freeway Suite 428 Lake Kellyhav...</td>\n",
       "      <td>Bennett Inc</td>\n",
       "      <td>1</td>\n",
       "    </tr>\n",
       "    <tr>\n",
       "      <th>1</th>\n",
       "      <td>Chris Sutton</td>\n",
       "      <td>37</td>\n",
       "      <td>10314.67</td>\n",
       "      <td>1</td>\n",
       "      <td>5.86</td>\n",
       "      <td>8</td>\n",
       "      <td>2016-06-22 19:20:04</td>\n",
       "      <td>858 Booth Points South Davidside, AZ 92136-1145</td>\n",
       "      <td>Collins Ltd</td>\n",
       "      <td>0</td>\n",
       "    </tr>\n",
       "    <tr>\n",
       "      <th>2</th>\n",
       "      <td>Connie Golden</td>\n",
       "      <td>39</td>\n",
       "      <td>10268.87</td>\n",
       "      <td>1</td>\n",
       "      <td>3.68</td>\n",
       "      <td>6</td>\n",
       "      <td>2009-08-19 18:52:21</td>\n",
       "      <td>3324 Gomez Knolls Suite 591 Farmerchester, LA ...</td>\n",
       "      <td>Brown-Wagner</td>\n",
       "      <td>0</td>\n",
       "    </tr>\n",
       "    <tr>\n",
       "      <th>3</th>\n",
       "      <td>Dennis Morgan</td>\n",
       "      <td>43</td>\n",
       "      <td>8042.76</td>\n",
       "      <td>0</td>\n",
       "      <td>4.95</td>\n",
       "      <td>8</td>\n",
       "      <td>2006-04-29 20:25:59</td>\n",
       "      <td>00103 Jeffrey Crest Apt. 205 Padillaville, IA ...</td>\n",
       "      <td>Barry, Jordan and Hall</td>\n",
       "      <td>0</td>\n",
       "    </tr>\n",
       "    <tr>\n",
       "      <th>4</th>\n",
       "      <td>Erin Gilbert</td>\n",
       "      <td>35</td>\n",
       "      <td>12357.31</td>\n",
       "      <td>0</td>\n",
       "      <td>5.03</td>\n",
       "      <td>10</td>\n",
       "      <td>2014-08-06 19:11:10</td>\n",
       "      <td>7098 Vicki Lane Suite 339 South Dominic, NM 43...</td>\n",
       "      <td>Ware, Williams and Hill</td>\n",
       "      <td>0</td>\n",
       "    </tr>\n",
       "    <tr>\n",
       "      <th>5</th>\n",
       "      <td>Jason Taylor</td>\n",
       "      <td>46</td>\n",
       "      <td>5570.45</td>\n",
       "      <td>0</td>\n",
       "      <td>2.23</td>\n",
       "      <td>7</td>\n",
       "      <td>2012-05-01 06:20:54</td>\n",
       "      <td>693 Kevin Groves Apt. 158 Debramouth, NV 73809</td>\n",
       "      <td>Moore, Nichols and Miller</td>\n",
       "      <td>0</td>\n",
       "    </tr>\n",
       "    <tr>\n",
       "      <th>6</th>\n",
       "      <td>Kenneth Alexander</td>\n",
       "      <td>30</td>\n",
       "      <td>8403.78</td>\n",
       "      <td>1</td>\n",
       "      <td>4.13</td>\n",
       "      <td>7</td>\n",
       "      <td>2006-06-28 09:26:57</td>\n",
       "      <td>032 Jorge Trail Apt. 091 Brianmouth, ID 23964</td>\n",
       "      <td>Torres Inc</td>\n",
       "      <td>0</td>\n",
       "    </tr>\n",
       "    <tr>\n",
       "      <th>7</th>\n",
       "      <td>Michael Williams</td>\n",
       "      <td>35</td>\n",
       "      <td>15571.26</td>\n",
       "      <td>0</td>\n",
       "      <td>6.45</td>\n",
       "      <td>9</td>\n",
       "      <td>2011-12-02 20:13:49</td>\n",
       "      <td>5728 Michael Rue Riosland, NY 38804-1415</td>\n",
       "      <td>Petty and Sons</td>\n",
       "      <td>1</td>\n",
       "    </tr>\n",
       "    <tr>\n",
       "      <th>8</th>\n",
       "      <td>Penny Perez</td>\n",
       "      <td>44</td>\n",
       "      <td>10309.15</td>\n",
       "      <td>1</td>\n",
       "      <td>6.35</td>\n",
       "      <td>9</td>\n",
       "      <td>2006-01-10 18:04:20</td>\n",
       "      <td>725 Stephanie Springs Apt. 350 South Brianbury...</td>\n",
       "      <td>Davis-Travis</td>\n",
       "      <td>1</td>\n",
       "    </tr>\n",
       "    <tr>\n",
       "      <th>9</th>\n",
       "      <td>Rachel Cherry</td>\n",
       "      <td>52</td>\n",
       "      <td>9782.83</td>\n",
       "      <td>0</td>\n",
       "      <td>3.96</td>\n",
       "      <td>7</td>\n",
       "      <td>2012-04-17 10:47:29</td>\n",
       "      <td>3479 Stewart Way Sandersside, ID 69317-8759</td>\n",
       "      <td>Bishop, Tran and Pope</td>\n",
       "      <td>0</td>\n",
       "    </tr>\n",
       "    <tr>\n",
       "      <th>10</th>\n",
       "      <td>Robert Russo</td>\n",
       "      <td>58</td>\n",
       "      <td>9703.93</td>\n",
       "      <td>0</td>\n",
       "      <td>5.16</td>\n",
       "      <td>11</td>\n",
       "      <td>2010-03-02 16:11:39</td>\n",
       "      <td>976 Thomas Garden Lake Chad, DC 12638-0139</td>\n",
       "      <td>Hanna-Leonard</td>\n",
       "      <td>1</td>\n",
       "    </tr>\n",
       "    <tr>\n",
       "      <th>11</th>\n",
       "      <td>Robert Sanders</td>\n",
       "      <td>29</td>\n",
       "      <td>9378.24</td>\n",
       "      <td>0</td>\n",
       "      <td>4.93</td>\n",
       "      <td>8</td>\n",
       "      <td>2015-08-06 22:29:28</td>\n",
       "      <td>8199 Christopher Tunnel Suite 537 Warnerside, ...</td>\n",
       "      <td>White, Jones and Nelson</td>\n",
       "      <td>0</td>\n",
       "    </tr>\n",
       "    <tr>\n",
       "      <th>12</th>\n",
       "      <td>Sean Macias</td>\n",
       "      <td>47</td>\n",
       "      <td>11306.10</td>\n",
       "      <td>0</td>\n",
       "      <td>6.01</td>\n",
       "      <td>7</td>\n",
       "      <td>2006-07-02 23:47:33</td>\n",
       "      <td>911 Kent Point Anthonytown, KS 47499</td>\n",
       "      <td>Jimenez Group</td>\n",
       "      <td>0</td>\n",
       "    </tr>\n",
       "    <tr>\n",
       "      <th>13</th>\n",
       "      <td>Seth Griffin</td>\n",
       "      <td>44</td>\n",
       "      <td>12328.03</td>\n",
       "      <td>1</td>\n",
       "      <td>4.60</td>\n",
       "      <td>9</td>\n",
       "      <td>2006-08-29 02:24:37</td>\n",
       "      <td>9436 Warner Mill Suite 265 Port Kenneth, OH 00...</td>\n",
       "      <td>Williams PLC</td>\n",
       "      <td>1</td>\n",
       "    </tr>\n",
       "    <tr>\n",
       "      <th>14</th>\n",
       "      <td>Tara Burton</td>\n",
       "      <td>49</td>\n",
       "      <td>11177.08</td>\n",
       "      <td>0</td>\n",
       "      <td>4.44</td>\n",
       "      <td>12</td>\n",
       "      <td>2008-01-07 05:11:46</td>\n",
       "      <td>713 William Loaf New Christopher, DC 71560-8742</td>\n",
       "      <td>Reed-Fields</td>\n",
       "      <td>1</td>\n",
       "    </tr>\n",
       "    <tr>\n",
       "      <th>15</th>\n",
       "      <td>Yvette Perry</td>\n",
       "      <td>41</td>\n",
       "      <td>8560.76</td>\n",
       "      <td>1</td>\n",
       "      <td>3.99</td>\n",
       "      <td>12</td>\n",
       "      <td>2015-05-09 18:48:03</td>\n",
       "      <td>83457 Davis Flats Morachester, GU 52752</td>\n",
       "      <td>Moore and Sons</td>\n",
       "      <td>1</td>\n",
       "    </tr>\n",
       "  </tbody>\n",
       "</table>\n",
       "</div>"
      ],
      "text/plain": [
       "                Names  Age  Total_Purchase  Account_Manager  Years  Num_Sites  \\\n",
       "0         Anna Bryant   39         8801.86                1   4.43         10   \n",
       "1        Chris Sutton   37        10314.67                1   5.86          8   \n",
       "2       Connie Golden   39        10268.87                1   3.68          6   \n",
       "3       Dennis Morgan   43         8042.76                0   4.95          8   \n",
       "4        Erin Gilbert   35        12357.31                0   5.03         10   \n",
       "5        Jason Taylor   46         5570.45                0   2.23          7   \n",
       "6   Kenneth Alexander   30         8403.78                1   4.13          7   \n",
       "7    Michael Williams   35        15571.26                0   6.45          9   \n",
       "8         Penny Perez   44        10309.15                1   6.35          9   \n",
       "9       Rachel Cherry   52         9782.83                0   3.96          7   \n",
       "10       Robert Russo   58         9703.93                0   5.16         11   \n",
       "11     Robert Sanders   29         9378.24                0   4.93          8   \n",
       "12        Sean Macias   47        11306.10                0   6.01          7   \n",
       "13       Seth Griffin   44        12328.03                1   4.60          9   \n",
       "14        Tara Burton   49        11177.08                0   4.44         12   \n",
       "15       Yvette Perry   41         8560.76                1   3.99         12   \n",
       "\n",
       "           Onboard_date                                           Location  \\\n",
       "0   2007-03-18 11:14:44  30668 Isabella Freeway Suite 428 Lake Kellyhav...   \n",
       "1   2016-06-22 19:20:04    858 Booth Points South Davidside, AZ 92136-1145   \n",
       "2   2009-08-19 18:52:21  3324 Gomez Knolls Suite 591 Farmerchester, LA ...   \n",
       "3   2006-04-29 20:25:59  00103 Jeffrey Crest Apt. 205 Padillaville, IA ...   \n",
       "4   2014-08-06 19:11:10  7098 Vicki Lane Suite 339 South Dominic, NM 43...   \n",
       "5   2012-05-01 06:20:54     693 Kevin Groves Apt. 158 Debramouth, NV 73809   \n",
       "6   2006-06-28 09:26:57      032 Jorge Trail Apt. 091 Brianmouth, ID 23964   \n",
       "7   2011-12-02 20:13:49           5728 Michael Rue Riosland, NY 38804-1415   \n",
       "8   2006-01-10 18:04:20  725 Stephanie Springs Apt. 350 South Brianbury...   \n",
       "9   2012-04-17 10:47:29        3479 Stewart Way Sandersside, ID 69317-8759   \n",
       "10  2010-03-02 16:11:39         976 Thomas Garden Lake Chad, DC 12638-0139   \n",
       "11  2015-08-06 22:29:28  8199 Christopher Tunnel Suite 537 Warnerside, ...   \n",
       "12  2006-07-02 23:47:33               911 Kent Point Anthonytown, KS 47499   \n",
       "13  2006-08-29 02:24:37  9436 Warner Mill Suite 265 Port Kenneth, OH 00...   \n",
       "14  2008-01-07 05:11:46    713 William Loaf New Christopher, DC 71560-8742   \n",
       "15  2015-05-09 18:48:03            83457 Davis Flats Morachester, GU 52752   \n",
       "\n",
       "                      Company  Churn Predict  \n",
       "0                 Bennett Inc              1  \n",
       "1                 Collins Ltd              0  \n",
       "2                Brown-Wagner              0  \n",
       "3      Barry, Jordan and Hall              0  \n",
       "4     Ware, Williams and Hill              0  \n",
       "5   Moore, Nichols and Miller              0  \n",
       "6                  Torres Inc              0  \n",
       "7              Petty and Sons              1  \n",
       "8                Davis-Travis              1  \n",
       "9       Bishop, Tran and Pope              0  \n",
       "10              Hanna-Leonard              1  \n",
       "11    White, Jones and Nelson              0  \n",
       "12              Jimenez Group              0  \n",
       "13               Williams PLC              1  \n",
       "14                Reed-Fields              1  \n",
       "15             Moore and Sons              1  "
      ]
     },
     "execution_count": 120,
     "metadata": {},
     "output_type": "execute_result"
    }
   ],
   "source": [
    "df_test"
   ]
  },
  {
   "cell_type": "markdown",
   "metadata": {},
   "source": [
    "### Store model "
   ]
  },
  {
   "cell_type": "code",
   "execution_count": 121,
   "metadata": {},
   "outputs": [],
   "source": [
    "import joblib"
   ]
  },
  {
   "cell_type": "code",
   "execution_count": 122,
   "metadata": {},
   "outputs": [
    {
     "data": {
      "text/plain": [
       "['churn.sav']"
      ]
     },
     "execution_count": 122,
     "metadata": {},
     "output_type": "execute_result"
    }
   ],
   "source": [
    "joblib.dump(rf,\"churn.sav\")"
   ]
  }
 ],
 "metadata": {
  "kernelspec": {
   "display_name": "Python 3",
   "language": "python",
   "name": "python3"
  },
  "language_info": {
   "codemirror_mode": {
    "name": "ipython",
    "version": 3
   },
   "file_extension": ".py",
   "mimetype": "text/x-python",
   "name": "python",
   "nbconvert_exporter": "python",
   "pygments_lexer": "ipython3",
   "version": "3.7.6"
  }
 },
 "nbformat": 4,
 "nbformat_minor": 4
}
